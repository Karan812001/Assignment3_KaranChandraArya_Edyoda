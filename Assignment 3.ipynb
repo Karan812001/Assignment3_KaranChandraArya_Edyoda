{
 "cells": [
  {
   "cell_type": "markdown",
   "id": "dcd5c1fe",
   "metadata": {},
   "source": [
    "# Question 1 Function to sum all the number in a list\n"
   ]
  },
  {
   "cell_type": "code",
   "execution_count": 1,
   "id": "2cd85a24",
   "metadata": {},
   "outputs": [
    {
     "name": "stdout",
     "output_type": "stream",
     "text": [
      "20\n"
     ]
    }
   ],
   "source": [
    "def sumofnum(n):\n",
    "    sum= 0\n",
    "    for i in n:\n",
    "        sum+= i\n",
    "    return sum\n",
    "\n",
    "list=(8,2,3,0,7)\n",
    "print(sumofnum((list)))"
   ]
  },
  {
   "cell_type": "markdown",
   "id": "5f74646c",
   "metadata": {},
   "source": [
    "# Question 2 Function to Reverse of A String "
   ]
  },
  {
   "cell_type": "code",
   "execution_count": 3,
   "id": "3695bdbf",
   "metadata": {},
   "outputs": [
    {
     "name": "stdout",
     "output_type": "stream",
     "text": [
      "Sample String :  1234abcd\n",
      "Reversed string :  dcba4321\n"
     ]
    }
   ],
   "source": [
    "def rev_str(s):\n",
    "    s= s[::-1]\n",
    "    return s\n",
    "\n",
    "s = \"1234abcd\"\n",
    "print (\"Sample String : \",s)\n",
    "print (\"Reversed string : \",rev_str(s))"
   ]
  },
  {
   "cell_type": "markdown",
   "id": "4766cf3f",
   "metadata": {},
   "source": [
    "# Question 3 Calculate the upper case and lower case letter in string"
   ]
  },
  {
   "cell_type": "code",
   "execution_count": 22,
   "id": "7309759b",
   "metadata": {},
   "outputs": [
    {
     "name": "stdout",
     "output_type": "stream",
     "text": [
      " No. Of Upper Case Character: 3 \n",
      " No. Of Lower Case Character: 12\n"
     ]
    }
   ],
   "source": [
    "def upper_lower_str(s):\n",
    "    u= 0\n",
    "    l= 0\n",
    "    for char in s:\n",
    "        if char.islower():\n",
    "            l+= 1\n",
    "        elif char.isupper():\n",
    "            u+=1\n",
    "        else:\n",
    "            pass\n",
    "    return f\" No. Of Upper Case Character: {u} \\n No. Of Lower Case Character: {l}\" \n",
    "    \n",
    "\n",
    "        \n",
    "print(upper_lower_str('The quick Brow Fox'))    \n",
    "\n"
   ]
  }
 ],
 "metadata": {
  "kernelspec": {
   "display_name": "Python 3 (ipykernel)",
   "language": "python",
   "name": "python3"
  },
  "language_info": {
   "codemirror_mode": {
    "name": "ipython",
    "version": 3
   },
   "file_extension": ".py",
   "mimetype": "text/x-python",
   "name": "python",
   "nbconvert_exporter": "python",
   "pygments_lexer": "ipython3",
   "version": "3.9.6"
  }
 },
 "nbformat": 4,
 "nbformat_minor": 5
}
